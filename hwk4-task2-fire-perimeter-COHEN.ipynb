{
 "cells": [
  {
   "cell_type": "markdown",
   "id": "facadfcd-20d8-43d4-ad43-5e8c527f08e6",
   "metadata": {},
   "source": [
    "## Data Loading"
   ]
  },
  {
   "cell_type": "code",
   "execution_count": 50,
   "id": "f1649c91-2e61-4da3-988c-4860c1a2e13b",
   "metadata": {},
   "outputs": [],
   "source": [
    "import geopandas as gpd\n",
    "import pandas as pd\n",
    "import os\n",
    "import matplotlib.pyplot as plt\n",
    "import datetime\n",
    "\n",
    "os.environ['PROJ_LIB'] = '/opt/anaconda3/share/proj'\n",
    "\n",
    "fp = os.path.join('/', \n",
    "             'Users', \n",
    "             'jpcohen', \n",
    "             'EDS-220', \n",
    "             'eds220-hwk4', \n",
    "             'data', \n",
    "             'California_Fire_Perimeters_(1950+)')\n",
    "\n",
    "fire_perim = gpd.read_file(fp)"
   ]
  },
  {
   "cell_type": "code",
   "execution_count": null,
   "id": "aa46ed3e-66ac-4b12-88c8-8b29dd3dc289",
   "metadata": {},
   "outputs": [],
   "source": []
  }
 ],
 "metadata": {
  "kernelspec": {
   "display_name": "Anaconda 3 (EDS220)",
   "language": "python",
   "name": "eds220-env"
  },
  "language_info": {
   "codemirror_mode": {
    "name": "ipython",
    "version": 3
   },
   "file_extension": ".py",
   "mimetype": "text/x-python",
   "name": "python",
   "nbconvert_exporter": "python",
   "pygments_lexer": "ipython3",
   "version": "3.11.4"
  }
 },
 "nbformat": 4,
 "nbformat_minor": 5
}
