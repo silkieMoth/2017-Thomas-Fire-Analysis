{
 "cells": [
  {
   "cell_type": "markdown",
   "id": "facadfcd-20d8-43d4-ad43-5e8c527f08e6",
   "metadata": {},
   "source": [
    "## Data Loading"
   ]
  },
  {
   "cell_type": "code",
   "execution_count": 1,
   "id": "f1649c91-2e61-4da3-988c-4860c1a2e13b",
   "metadata": {},
   "outputs": [],
   "source": [
    "import geopandas as gpd\n",
    "import pandas as pd\n",
    "import os\n",
    "import matplotlib.pyplot as plt\n",
    "import datetime\n",
    "\n",
    "os.environ['PROJ_LIB'] = '/opt/anaconda3/share/proj'\n",
    "\n",
    "fp = os.path.join('/', \n",
    "             'Users', \n",
    "             'jpcohen', \n",
    "             'EDS-220', \n",
    "             'eds220-hwk4', \n",
    "             'data', \n",
    "             'California_Fire_Perimeters_(1950+)')\n",
    "\n",
    "fire_perim = gpd.read_file(fp)"
   ]
  },
  {
   "cell_type": "markdown",
   "id": "bc11c437-c032-4fda-8ebb-f13a600a8b97",
   "metadata": {},
   "source": [
    "## Data Cleaning"
   ]
  },
  {
   "cell_type": "code",
   "execution_count": 2,
   "id": "72082715-5e9e-47b5-b3c9-1bb561555547",
   "metadata": {
    "tags": []
   },
   "outputs": [],
   "source": [
    "# Make columns lowercase\n",
    "fire_perim.columns = fire_perim.columns.str.lower()\n",
    "\n",
    "# Tunicate underscore from year col\n",
    "fire_perim = fire_perim.rename(columns = {'year_': 'year'})\n",
    "\n",
    "# Make year col int\n",
    "fire_perim['year'] = fire_perim['year'].astype('Int64')\n",
    "\n",
    "# Drop cols with NA in fire name\n",
    "fire_perim = fire_perim.dropna(subset = 'fire_name')"
   ]
  },
  {
   "cell_type": "markdown",
   "id": "16522df9-008b-4758-8070-0cc5535ea0ae",
   "metadata": {},
   "source": [
    "# Fire Perimeter Data Summary\n",
    "\n",
    "write this later"
   ]
  },
  {
   "cell_type": "code",
   "execution_count": 6,
   "id": "b4f345d1-237e-4ec4-97fb-c91de648bae5",
   "metadata": {
    "tags": []
   },
   "outputs": [],
   "source": [
    "# Subset for 2017 Thomas Fire\n",
    "thomas_perim = fire_perim[(fire_perim['fire_name'].str.contains('THOMAS')) & \n",
    "           (fire_perim['year'] == 2017)]\n",
    "\n",
    "# Make folder to save shapefile\n",
    "if not os.path.exists('data/thomas_perim'):\n",
    "    os.makedirs('data/thomas_perim')\n",
    "\n",
    "# Save subset as .shp\n",
    "thomas_perim.to_file('data/thomas_perim/thomas_perim.shp')"
   ]
  },
  {
   "cell_type": "markdown",
   "id": "59465bb9-68b3-489c-96f8-4e47077833d7",
   "metadata": {},
   "source": [
    "#### Why save to `.shp`?\n",
    "\n",
    "We are only looking to get a representation of the 2017 Thomas Fire. In otherwords, all we need is a polygon for the boundary containing attributes. Exporting to `.shp` is the fastest and simplest format to use. It is also good enough to any analyses needed when crossreferencing it with landsat NetCDF file."
   ]
  },
  {
   "cell_type": "code",
   "execution_count": null,
   "id": "d6fdf2f4-4a63-4639-a922-38ce21cf9117",
   "metadata": {},
   "outputs": [],
   "source": []
  }
 ],
 "metadata": {
  "kernelspec": {
   "display_name": "Anaconda 3 (EDS220)",
   "language": "python",
   "name": "eds220-env"
  },
  "language_info": {
   "codemirror_mode": {
    "name": "ipython",
    "version": 3
   },
   "file_extension": ".py",
   "mimetype": "text/x-python",
   "name": "python",
   "nbconvert_exporter": "python",
   "pygments_lexer": "ipython3",
   "version": "3.11.4"
  }
 },
 "nbformat": 4,
 "nbformat_minor": 5
}
