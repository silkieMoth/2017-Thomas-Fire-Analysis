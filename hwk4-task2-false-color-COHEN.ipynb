{
 "cells": [
  {
   "cell_type": "code",
   "execution_count": 4,
   "id": "7185c424-991d-4e23-a818-b13c0f605850",
   "metadata": {},
   "outputs": [],
   "source": [
    "import geopandas as gpd\n",
    "import xarray as xr\n",
    "import rioxarray as rioxr\n",
    "import rasterio\n",
    "import matplotlib.pyplot as plt\n",
    "import os\n",
    "\n",
    "fp = os.path.join('/', \n",
    "             'Users', \n",
    "             'jpcohen', \n",
    "             'EDS-220', \n",
    "             'eds220-hwk4', \n",
    "             'data', \n",
    "             'landsat8-2018-01-26-sb-simplified.nc')"
   ]
  },
  {
   "cell_type": "code",
   "execution_count": 7,
   "id": "6b1b9393-1eba-4f0e-bf7f-5f7b8c3522e9",
   "metadata": {},
   "outputs": [],
   "source": [
    "landsat = rioxr.open_rasterio(fp)"
   ]
  },
  {
   "cell_type": "code",
   "execution_count": 42,
   "id": "e320442d-2a7c-4a04-8fd2-56e1ddc2826c",
   "metadata": {
    "tags": []
   },
   "outputs": [
    {
     "name": "stdout",
     "output_type": "stream",
     "text": [
      "FrozenMappingWarningOnValuesAccess({'band': 1, 'x': 870, 'y': 731}) \n",
      "\n",
      " {'units': 'mm'} \n",
      "\n",
      " Coordinates:\n",
      "  * band         (band) int64 8B 1\n",
      "  * x            (x) float64 7kB 1.213e+05 1.216e+05 ... 3.557e+05 3.559e+05\n",
      "  * y            (y) float64 6kB 3.952e+06 3.952e+06 ... 3.756e+06 3.755e+06\n",
      "    spatial_ref  int64 8B 0 \n",
      "\n",
      "\n"
     ]
    }
   ],
   "source": [
    "print(xr.dims, '\\n\\n', \n",
    "      xr.attrs, '\\n\\n', \n",
    "      xr.coords, '\\n\\n')"
   ]
  },
  {
   "cell_type": "code",
   "execution_count": null,
   "id": "4b179b28-50c7-41db-8603-fc19bbf4d7de",
   "metadata": {},
   "outputs": [],
   "source": []
  }
 ],
 "metadata": {
  "kernelspec": {
   "display_name": "Anaconda 3 (EDS220)",
   "language": "python",
   "name": "eds220-env"
  },
  "language_info": {
   "codemirror_mode": {
    "name": "ipython",
    "version": 3
   },
   "file_extension": ".py",
   "mimetype": "text/x-python",
   "name": "python",
   "nbconvert_exporter": "python",
   "pygments_lexer": "ipython3",
   "version": "3.11.4"
  }
 },
 "nbformat": 4,
 "nbformat_minor": 5
}
